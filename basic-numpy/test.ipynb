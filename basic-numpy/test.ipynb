{
 "cells": [
  {
   "cell_type": "code",
   "execution_count": 2,
   "metadata": {
    "collapsed": true,
    "pycharm": {
     "is_executing": false,
     "name": "#%%\n"
    }
   },
   "outputs": [],
   "source": [
    "import pandas as pd\n",
    "\n",
    "df = pd.read_csv('D:\\Project\\ml\\mlp_demo.csv')"
   ]
  },
  {
   "cell_type": "code",
   "execution_count": 6,
   "outputs": [
    {
     "data": {
      "text/plain": "           id  diagnosis  radius_mean  texture_mean  perimeter_mean  \\\n406    905189          0        16.14         14.86          104.30   \n93     862009          0        13.45         18.30           86.60   \n286   8912909          0        11.94         20.76           77.87   \n165   8712291          0        14.97         19.76           95.50   \n172     87164          1        15.46         11.89          102.50   \n181    873593          1        21.09         26.57          142.70   \n147  86973701          0        14.95         18.77           97.84   \n300    892438          1        19.53         18.90          129.50   \n20    8510653          0        13.08         15.71           85.63   \n64   85922302          1        12.68         23.84           82.69   \n\n     area_mean  smoothness_mean  compactness_mean  concavity_mean  \\\n406      800.0          0.09495           0.08501         0.05500   \n93       555.1          0.10220           0.08165         0.03974   \n286      441.0          0.08605           0.10110         0.06574   \n165      690.2          0.08421           0.05352         0.01947   \n172      736.9          0.12570           0.15550         0.20320   \n181     1311.0          0.11410           0.28320         0.24870   \n147      689.5          0.08138           0.11670         0.09050   \n300     1217.0          0.11500           0.16420         0.21970   \n20       520.0          0.10750           0.12700         0.04568   \n64       499.0          0.11220           0.12620         0.11280   \n\n     concave points_mean  ...  radius_worst  texture_worst  perimeter_worst  \\\n406              0.04528  ...         17.71          19.58           115.90   \n93               0.02780  ...         15.10          25.94            97.59   \n286              0.03791  ...         13.24          27.29            92.20   \n165              0.01939  ...         15.98          25.82           102.30   \n172              0.10970  ...         18.79          17.04           125.00   \n181              0.14960  ...         26.68          33.48           176.50   \n147              0.03562  ...         16.25          25.47           107.10   \n300              0.10620  ...         25.93          26.24           171.10   \n20               0.03110  ...         14.50          20.49            96.09   \n64               0.06873  ...         17.09          33.47           111.80   \n\n     area_worst  smoothness_worst  compactness_worst  concavity_worst  \\\n406       947.9            0.1206            0.17220           0.2310   \n93        699.4            0.1339            0.17510           0.1381   \n286       546.1            0.1116            0.28130           0.2365   \n165       782.1            0.1045            0.09995           0.0775   \n172      1102.0            0.1531            0.35830           0.5830   \n181      2089.0            0.1491            0.75840           0.6780   \n147       809.7            0.0997            0.25210           0.2500   \n300      2053.0            0.1495            0.41160           0.6121   \n20        630.5            0.1312            0.27760           0.1890   \n64        888.3            0.1851            0.40610           0.4024   \n\n     concave points_worst  symmetry_worst  fractal_dimension_worst  \n406               0.11290          0.2778                  0.07012  \n93                0.07911          0.2678                  0.06603  \n286               0.11550          0.2465                  0.09981  \n165               0.05754          0.2646                  0.06085  \n172               0.18270          0.3216                  0.10100  \n181               0.29030          0.4098                  0.12840  \n147               0.08405          0.2852                  0.09218  \n300               0.19800          0.2968                  0.09929  \n20                0.07283          0.3184                  0.08183  \n64                0.17160          0.3383                  0.10310  \n\n[10 rows x 32 columns]",
      "text/html": "<div>\n<style scoped>\n    .dataframe tbody tr th:only-of-type {\n        vertical-align: middle;\n    }\n\n    .dataframe tbody tr th {\n        vertical-align: top;\n    }\n\n    .dataframe thead th {\n        text-align: right;\n    }\n</style>\n<table border=\"1\" class=\"dataframe\">\n  <thead>\n    <tr style=\"text-align: right;\">\n      <th></th>\n      <th>id</th>\n      <th>diagnosis</th>\n      <th>radius_mean</th>\n      <th>texture_mean</th>\n      <th>perimeter_mean</th>\n      <th>area_mean</th>\n      <th>smoothness_mean</th>\n      <th>compactness_mean</th>\n      <th>concavity_mean</th>\n      <th>concave points_mean</th>\n      <th>...</th>\n      <th>radius_worst</th>\n      <th>texture_worst</th>\n      <th>perimeter_worst</th>\n      <th>area_worst</th>\n      <th>smoothness_worst</th>\n      <th>compactness_worst</th>\n      <th>concavity_worst</th>\n      <th>concave points_worst</th>\n      <th>symmetry_worst</th>\n      <th>fractal_dimension_worst</th>\n    </tr>\n  </thead>\n  <tbody>\n    <tr>\n      <th>406</th>\n      <td>905189</td>\n      <td>0</td>\n      <td>16.14</td>\n      <td>14.86</td>\n      <td>104.30</td>\n      <td>800.0</td>\n      <td>0.09495</td>\n      <td>0.08501</td>\n      <td>0.05500</td>\n      <td>0.04528</td>\n      <td>...</td>\n      <td>17.71</td>\n      <td>19.58</td>\n      <td>115.90</td>\n      <td>947.9</td>\n      <td>0.1206</td>\n      <td>0.17220</td>\n      <td>0.2310</td>\n      <td>0.11290</td>\n      <td>0.2778</td>\n      <td>0.07012</td>\n    </tr>\n    <tr>\n      <th>93</th>\n      <td>862009</td>\n      <td>0</td>\n      <td>13.45</td>\n      <td>18.30</td>\n      <td>86.60</td>\n      <td>555.1</td>\n      <td>0.10220</td>\n      <td>0.08165</td>\n      <td>0.03974</td>\n      <td>0.02780</td>\n      <td>...</td>\n      <td>15.10</td>\n      <td>25.94</td>\n      <td>97.59</td>\n      <td>699.4</td>\n      <td>0.1339</td>\n      <td>0.17510</td>\n      <td>0.1381</td>\n      <td>0.07911</td>\n      <td>0.2678</td>\n      <td>0.06603</td>\n    </tr>\n    <tr>\n      <th>286</th>\n      <td>8912909</td>\n      <td>0</td>\n      <td>11.94</td>\n      <td>20.76</td>\n      <td>77.87</td>\n      <td>441.0</td>\n      <td>0.08605</td>\n      <td>0.10110</td>\n      <td>0.06574</td>\n      <td>0.03791</td>\n      <td>...</td>\n      <td>13.24</td>\n      <td>27.29</td>\n      <td>92.20</td>\n      <td>546.1</td>\n      <td>0.1116</td>\n      <td>0.28130</td>\n      <td>0.2365</td>\n      <td>0.11550</td>\n      <td>0.2465</td>\n      <td>0.09981</td>\n    </tr>\n    <tr>\n      <th>165</th>\n      <td>8712291</td>\n      <td>0</td>\n      <td>14.97</td>\n      <td>19.76</td>\n      <td>95.50</td>\n      <td>690.2</td>\n      <td>0.08421</td>\n      <td>0.05352</td>\n      <td>0.01947</td>\n      <td>0.01939</td>\n      <td>...</td>\n      <td>15.98</td>\n      <td>25.82</td>\n      <td>102.30</td>\n      <td>782.1</td>\n      <td>0.1045</td>\n      <td>0.09995</td>\n      <td>0.0775</td>\n      <td>0.05754</td>\n      <td>0.2646</td>\n      <td>0.06085</td>\n    </tr>\n    <tr>\n      <th>172</th>\n      <td>87164</td>\n      <td>1</td>\n      <td>15.46</td>\n      <td>11.89</td>\n      <td>102.50</td>\n      <td>736.9</td>\n      <td>0.12570</td>\n      <td>0.15550</td>\n      <td>0.20320</td>\n      <td>0.10970</td>\n      <td>...</td>\n      <td>18.79</td>\n      <td>17.04</td>\n      <td>125.00</td>\n      <td>1102.0</td>\n      <td>0.1531</td>\n      <td>0.35830</td>\n      <td>0.5830</td>\n      <td>0.18270</td>\n      <td>0.3216</td>\n      <td>0.10100</td>\n    </tr>\n    <tr>\n      <th>181</th>\n      <td>873593</td>\n      <td>1</td>\n      <td>21.09</td>\n      <td>26.57</td>\n      <td>142.70</td>\n      <td>1311.0</td>\n      <td>0.11410</td>\n      <td>0.28320</td>\n      <td>0.24870</td>\n      <td>0.14960</td>\n      <td>...</td>\n      <td>26.68</td>\n      <td>33.48</td>\n      <td>176.50</td>\n      <td>2089.0</td>\n      <td>0.1491</td>\n      <td>0.75840</td>\n      <td>0.6780</td>\n      <td>0.29030</td>\n      <td>0.4098</td>\n      <td>0.12840</td>\n    </tr>\n    <tr>\n      <th>147</th>\n      <td>86973701</td>\n      <td>0</td>\n      <td>14.95</td>\n      <td>18.77</td>\n      <td>97.84</td>\n      <td>689.5</td>\n      <td>0.08138</td>\n      <td>0.11670</td>\n      <td>0.09050</td>\n      <td>0.03562</td>\n      <td>...</td>\n      <td>16.25</td>\n      <td>25.47</td>\n      <td>107.10</td>\n      <td>809.7</td>\n      <td>0.0997</td>\n      <td>0.25210</td>\n      <td>0.2500</td>\n      <td>0.08405</td>\n      <td>0.2852</td>\n      <td>0.09218</td>\n    </tr>\n    <tr>\n      <th>300</th>\n      <td>892438</td>\n      <td>1</td>\n      <td>19.53</td>\n      <td>18.90</td>\n      <td>129.50</td>\n      <td>1217.0</td>\n      <td>0.11500</td>\n      <td>0.16420</td>\n      <td>0.21970</td>\n      <td>0.10620</td>\n      <td>...</td>\n      <td>25.93</td>\n      <td>26.24</td>\n      <td>171.10</td>\n      <td>2053.0</td>\n      <td>0.1495</td>\n      <td>0.41160</td>\n      <td>0.6121</td>\n      <td>0.19800</td>\n      <td>0.2968</td>\n      <td>0.09929</td>\n    </tr>\n    <tr>\n      <th>20</th>\n      <td>8510653</td>\n      <td>0</td>\n      <td>13.08</td>\n      <td>15.71</td>\n      <td>85.63</td>\n      <td>520.0</td>\n      <td>0.10750</td>\n      <td>0.12700</td>\n      <td>0.04568</td>\n      <td>0.03110</td>\n      <td>...</td>\n      <td>14.50</td>\n      <td>20.49</td>\n      <td>96.09</td>\n      <td>630.5</td>\n      <td>0.1312</td>\n      <td>0.27760</td>\n      <td>0.1890</td>\n      <td>0.07283</td>\n      <td>0.3184</td>\n      <td>0.08183</td>\n    </tr>\n    <tr>\n      <th>64</th>\n      <td>85922302</td>\n      <td>1</td>\n      <td>12.68</td>\n      <td>23.84</td>\n      <td>82.69</td>\n      <td>499.0</td>\n      <td>0.11220</td>\n      <td>0.12620</td>\n      <td>0.11280</td>\n      <td>0.06873</td>\n      <td>...</td>\n      <td>17.09</td>\n      <td>33.47</td>\n      <td>111.80</td>\n      <td>888.3</td>\n      <td>0.1851</td>\n      <td>0.40610</td>\n      <td>0.4024</td>\n      <td>0.17160</td>\n      <td>0.3383</td>\n      <td>0.10310</td>\n    </tr>\n  </tbody>\n</table>\n<p>10 rows × 32 columns</p>\n</div>"
     },
     "metadata": {},
     "output_type": "execute_result",
     "execution_count": 6
    }
   ],
   "source": [
    "# 随机抽样\n",
    "df_sample = df.sample(10)"
   ],
   "metadata": {
    "collapsed": false,
    "pycharm": {
     "name": "#%%\n",
     "is_executing": false
    }
   }
  },
  {
   "cell_type": "code",
   "execution_count": 7,
   "outputs": [
    {
     "data": {
      "text/plain": "184     True\n134     True\n175    False\n94      True\n196     True\n2       True\n358    False\n290    False\n381    False\n57      True\nName: diagnosis, dtype: bool"
     },
     "metadata": {},
     "output_type": "execute_result",
     "execution_count": 7
    }
   ],
   "source": [
    "# roc\n",
    "df_is = df_sample[df_sample['diagnosis'].isin([1])]\n",
    "df_not = df_sample[df_sample['diagnosis'].isin([0])]\n",
    "\n",
    "\n"
   ],
   "metadata": {
    "collapsed": false,
    "pycharm": {
     "name": "#%%\n",
     "is_executing": false
    }
   }
  }
 ],
 "metadata": {
  "kernelspec": {
   "name": "python3",
   "language": "python",
   "display_name": "Python 3"
  },
  "language_info": {
   "codemirror_mode": {
    "name": "ipython",
    "version": 2
   },
   "file_extension": ".py",
   "mimetype": "text/x-python",
   "name": "python",
   "nbconvert_exporter": "python",
   "pygments_lexer": "ipython2",
   "version": "2.7.6"
  },
  "pycharm": {
   "stem_cell": {
    "cell_type": "raw",
    "source": [],
    "metadata": {
     "collapsed": false
    }
   }
  }
 },
 "nbformat": 4,
 "nbformat_minor": 0
}